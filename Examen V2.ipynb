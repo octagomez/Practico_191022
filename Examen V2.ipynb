{
  "cells": [
    {
      "cell_type": "markdown",
      "metadata": {
        "id": "TBuMsE8WkHC5"
      },
      "source": [
        "![imagen.png](attachment:imagen.png)"
      ]
    },
    {
      "cell_type": "markdown",
      "metadata": {
        "id": "FrwwNzTTkHDH"
      },
      "source": [
        "<a href=\"https://colab.research.google.com/github/joanby/python-ml-course/blob/master/notebooks/T10%20-%201%20-%20Analisis%20de%20Componentes%20Principales-Colab.ipynb\" target=\"_parent\"><img src=\"https://colab.research.google.com/assets/colab-badge.svg\" alt=\"Open In Colab\"/></a>"
      ]
    },
    {
      "cell_type": "markdown",
      "metadata": {
        "id": "M0flFNkrkHDI"
      },
      "source": [
        "# Consignas:\n",
        "# Analizar y resolver\n",
        "# # Subir a repositorio de Github, con al menos un pull request, y devolver el link\n",
        "\n",
        "# Hacer un fork de este repositorio y trabajar sobre ese archivo\n",
        "\n",
        "\n",
        "1- Generar un set de datos, con al menos 4 predictores\n",
        "\n",
        "2- Dado el siguiente código indicar que tipo de problema instanta resolver. \n",
        "\n",
        "3- Evaluar los resultados.\n",
        "\n",
        "4- Agregar otro algoritmo para resolver sobre el mismo set de datos.\n"
      ]
    },
    {
      "cell_type": "code",
      "execution_count": null,
      "metadata": {
        "id": "94mVDD-nkHDK"
      },
      "outputs": [],
      "source": [
        "# Tratamiento de datos\n",
        "# ==============================================================================\n",
        "import pandas as pd\n",
        "import numpy as np\n",
        "\n",
        "# Gráficos\n",
        "# ==============================================================================\n",
        "import matplotlib.pyplot as plt\n",
        "from matplotlib import style\n",
        "import seaborn as sns\n",
        "from mlxtend.plotting import plot_decision_regions\n",
        "\n",
        "# Preprocesado y modelado\n",
        "# ==============================================================================\n",
        "from sklearn.svm import SVC\n",
        "from sklearn.model_selection import train_test_split\n",
        "from sklearn.model_selection import GridSearchCV\n",
        "from sklearn.metrics import accuracy_score\n",
        "\n",
        "# Configuración matplotlib\n",
        "# ==============================================================================\n",
        "plt.rcParams['image.cmap'] = \"bwr\"\n",
        "#plt.rcParams['figure.dpi'] = \"100\"\n",
        "plt.rcParams['savefig.bbox'] = \"tight\"\n",
        "style.use('ggplot') or plt.style.use('ggplot')\n",
        "\n",
        "# Configuración warnings\n",
        "# ==============================================================================\n",
        "import warnings\n",
        "warnings.filterwarnings('ignore')"
      ]
    },
    {
      "cell_type": "markdown",
      "metadata": {
        "id": "9bWvHJsjkHDP"
      },
      "source": [
        "# Para generar los datos usaremos las funciones provistas en sklearn\n",
        "\n",
        "sklearn.datasets: Datasets\n"
      ]
    },
    {
      "cell_type": "code",
      "execution_count": null,
      "metadata": {
        "id": "NIx4RAI6kHDR"
      },
      "outputs": [],
      "source": [
        "# Datos\n",
        "# ==============================================================================\n",
        "\n",
        "#PONER CODIGO AQUI"
      ]
    },
    {
      "cell_type": "code",
      "execution_count": null,
      "metadata": {
        "id": "bZinud7LkHDS"
      },
      "outputs": [],
      "source": [
        "datos"
      ]
    },
    {
      "cell_type": "code",
      "execution_count": null,
      "metadata": {
        "id": "bDjf5pkskHDU"
      },
      "outputs": [],
      "source": [
        "# División de los datos en train y test\n",
        "# ==============================================================================\n",
        "X = datos.drop(columns = 'y')\n",
        "y = datos['y']\n",
        "\n",
        "#PONER CODIGO AQUI\n",
        "\n"
      ]
    },
    {
      "cell_type": "code",
      "execution_count": null,
      "metadata": {
        "id": "EFZXo-U3kHDW"
      },
      "outputs": [],
      "source": [
        "# Creación del modelo SVM lineal\n",
        "# ==============================================================================\n",
        "modelo = SVC(C = 0, kernel = 'linear', random_state=123)\n",
        "\n",
        "#PONER CODIGO AQUI\n"
      ]
    },
    {
      "cell_type": "code",
      "execution_count": null,
      "metadata": {
        "id": "Ko_aDI4XkHDY"
      },
      "outputs": [],
      "source": [
        "# Representación gráfica de los límites de clasificación\n",
        "# ==============================================================================\n",
        "# Grid de valores\n",
        "x = np.linspace(np.min(X_train.X1), np.max(X_train.X1), 50)\n",
        "y = np.linspace(np.min(X_train.X2), np.max(X_train.X2), 50)\n",
        "Y, X = np.meshgrid(y, x)\n",
        "grid = np.vstack([X.ravel(), Y.ravel()]).T\n",
        "\n",
        "# Predicción valores grid\n",
        "pred_grid = modelo.predict(grid)\n",
        "\n",
        "fig, ax = plt.subplots(figsize=(6,4))\n",
        "ax.scatter(grid[:,0], grid[:,1], c=pred_grid, alpha = 0.2)\n",
        "ax.scatter(X_train.X1, X_train.X2, c=y_train, alpha = 1)\n",
        "\n",
        "# Vectores soporte\n",
        "ax.scatter(\n",
        "    modelo.support_vectors_[:, 0],\n",
        "    modelo.support_vectors_[:, 1],\n",
        "    s=200, linewidth=1,\n",
        "    facecolors='none', edgecolors='black'\n",
        ")\n",
        "\n",
        "# Hiperplano de separación\n",
        "ax.contour(\n",
        "    X,\n",
        "    Y,\n",
        "    modelo.decision_function(grid).reshape(X.shape),\n",
        "    colors = 'k',\n",
        "    levels = [-1, 0, 1],\n",
        "    alpha  = 0.5,\n",
        "    linestyles = ['--', '-', '--']\n",
        ")\n",
        "\n",
        "ax.set_title(\"Resultados clasificación SVM lineal\");"
      ]
    },
    {
      "cell_type": "code",
      "execution_count": null,
      "metadata": {
        "id": "nhXIqJOhkHDb"
      },
      "outputs": [],
      "source": [
        "# Predicciones test\n",
        "# ==============================================================================\n",
        "\n",
        "#PONER CODIGO AQUI\n"
      ]
    },
    {
      "cell_type": "code",
      "execution_count": null,
      "metadata": {
        "id": "Cp4RQ3-nkHDj"
      },
      "outputs": [],
      "source": [
        "# Accuracy de test del modelo \n",
        "# ==============================================================================\n",
        "\n",
        "#PONER CODIGO AQUI\n",
        "\n",
        "print(\"\")\n",
        "print(f\"El accuracy de test es: {100*accuracy}%\")"
      ]
    }
  ],
  "metadata": {
    "kernelspec": {
      "display_name": "Python 3",
      "language": "python",
      "name": "python3"
    },
    "language_info": {
      "codemirror_mode": {
        "name": "ipython",
        "version": 3
      },
      "file_extension": ".py",
      "mimetype": "text/x-python",
      "name": "python",
      "nbconvert_exporter": "python",
      "pygments_lexer": "ipython3",
      "version": "3.7.6"
    },
    "colab": {
      "provenance": []
    }
  },
  "nbformat": 4,
  "nbformat_minor": 0
}